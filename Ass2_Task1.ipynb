{
  "nbformat": 4,
  "nbformat_minor": 0,
  "metadata": {
    "colab": {
      "name": "Ass2  Task1.ipynb",
      "provenance": [],
      "collapsed_sections": [],
      "include_colab_link": true
    },
    "kernelspec": {
      "name": "python3",
      "display_name": "Python 3"
    },
    "accelerator": "GPU"
  },
  "cells": [
    {
      "cell_type": "markdown",
      "metadata": {
        "id": "view-in-github",
        "colab_type": "text"
      },
      "source": [
        "<a href=\"https://colab.research.google.com/github/AsmatZahra/FeedForward-with-faces-dataset/blob/master/Ass2_Task1.ipynb\" target=\"_parent\"><img src=\"https://colab.research.google.com/assets/colab-badge.svg\" alt=\"Open In Colab\"/></a>"
      ]
    },
    {
      "cell_type": "code",
      "metadata": {
        "id": "iEc1f8as95CK",
        "colab_type": "code",
        "colab": {}
      },
      "source": [
        "from google.colab import drive\n",
        "drive.mount('/content/drive')"
      ],
      "execution_count": 0,
      "outputs": []
    },
    {
      "cell_type": "code",
      "metadata": {
        "id": "S7t-fDa7-F5U",
        "colab_type": "code",
        "outputId": "7f84e2d6-93d0-4911-f84f-164529c2733d",
        "colab": {
          "base_uri": "https://localhost:8080/",
          "height": 35
        }
      },
      "source": [
        "%cd /content/drive/My Drive/Colab Notebooks/Deep learning assignments/assignment 2/"
      ],
      "execution_count": 3,
      "outputs": [
        {
          "output_type": "stream",
          "text": [
            "/content/drive/My Drive/Colab Notebooks/Deep learning assignments/assignment 2\n"
          ],
          "name": "stdout"
        }
      ]
    },
    {
      "cell_type": "code",
      "metadata": {
        "id": "VAcWr7Ay-IbD",
        "colab_type": "code",
        "outputId": "a651a40f-28bd-4753-d523-835efa4d2c08",
        "colab": {
          "base_uri": "https://localhost:8080/",
          "height": 53
        }
      },
      "source": [
        "!ls"
      ],
      "execution_count": 4,
      "outputs": [
        {
          "output_type": "stream",
          "text": [
            "'Ass2 Task2.ipynb'     faces\t\t 'Programming Assignment 2.pdf'\n",
            "'Assignment 2.ipynb'  'Pokeman Dataset'\n"
          ],
          "name": "stdout"
        }
      ]
    },
    {
      "cell_type": "code",
      "metadata": {
        "id": "oJreYidg-N7U",
        "colab_type": "code",
        "colab": {}
      },
      "source": [
        "#from __future__ import absolute_import, division, print_function, unicode_literals"
      ],
      "execution_count": 0,
      "outputs": []
    },
    {
      "cell_type": "code",
      "metadata": {
        "id": "rKC54bCO-R8e",
        "colab_type": "code",
        "outputId": "c22d839d-3054-4c92-c30c-0a19453fe384",
        "colab": {
          "base_uri": "https://localhost:8080/",
          "height": 108
        }
      },
      "source": [
        "try:\n",
        "  %tensorflow_version only exists in Colab.\n",
        "  %tensorflow_version 2.x\n",
        "except Exception:\n",
        "  pass\n",
        "import tensorflow as tf"
      ],
      "execution_count": 6,
      "outputs": [
        {
          "output_type": "stream",
          "text": [
            "Unknown TensorFlow version: only exists in Colab.\n",
            "Currently selected TF version: 2.x\n",
            "Available versions:\n",
            " * 1.x\n",
            " * 2.x\n"
          ],
          "name": "stdout"
        }
      ]
    },
    {
      "cell_type": "code",
      "metadata": {
        "id": "es19MfBW-WVO",
        "colab_type": "code",
        "colab": {}
      },
      "source": [
        "import tensorflow as tf\n",
        "AUTOTUNE = tf.data.experimental.AUTOTUNE"
      ],
      "execution_count": 0,
      "outputs": []
    },
    {
      "cell_type": "code",
      "metadata": {
        "id": "QQQdwXjb-ZHZ",
        "colab_type": "code",
        "colab": {}
      },
      "source": [
        "import IPython.display as display\n",
        "from PIL import Image\n",
        "import numpy as np\n",
        "import matplotlib.pyplot as plt\n",
        "import os"
      ],
      "execution_count": 0,
      "outputs": []
    },
    {
      "cell_type": "code",
      "metadata": {
        "id": "GSw4jP2V-bZC",
        "colab_type": "code",
        "outputId": "ba13f495-2635-4dca-ce36-3c2618d974d9",
        "colab": {
          "base_uri": "https://localhost:8080/",
          "height": 35
        }
      },
      "source": [
        "tf.__version__"
      ],
      "execution_count": 9,
      "outputs": [
        {
          "output_type": "execute_result",
          "data": {
            "text/plain": [
              "'2.2.0-rc1'"
            ]
          },
          "metadata": {
            "tags": []
          },
          "execution_count": 9
        }
      ]
    },
    {
      "cell_type": "code",
      "metadata": {
        "id": "B1yKGiaCvzOr",
        "colab_type": "code",
        "colab": {}
      },
      "source": [
        "#convert image form .pgm format to .jpg format for each directory i.e, train, valid, test\n",
        "#once converted need not to run again\n",
        "'''from glob import glob                                                           \n",
        "import cv2 \n",
        "import os\n",
        "pgms=glob('faces/face.validation/validation/*/*.pgm')\n",
        "#pgms = glob('./*.pgm')\n",
        "\n",
        "for j in pgms:\n",
        "    img = cv2.imread(j)\n",
        "    cv2.imwrite(j[:-3] + 'jpg', img)'''"
      ],
      "execution_count": 0,
      "outputs": []
    },
    {
      "cell_type": "code",
      "metadata": {
        "id": "Y9k4dCmN-fCE",
        "colab_type": "code",
        "colab": {}
      },
      "source": [
        "import pathlib\n",
        "train_dataset_dir = \"faces/face.train/train/\"\n",
        "train_dataset_dir = pathlib.Path(train_dataset_dir)\n",
        "\n",
        "valid_dataset_dir = \"faces/face.validation/validation/\"\n",
        "valid_dataset_dir = pathlib.Path(valid_dataset_dir)\n",
        "\n",
        "test_dataset_dir = \"faces/face.test/test/\"\n",
        "test_dataset_dir = pathlib.Path(test_dataset_dir)"
      ],
      "execution_count": 0,
      "outputs": []
    },
    {
      "cell_type": "code",
      "metadata": {
        "id": "8Md-9zW2-1yp",
        "colab_type": "code",
        "colab": {}
      },
      "source": [
        "train_image_count = len(list(train_dataset_dir.glob('*/*.jpg')))\n",
        "#valid_image_count= len(list(valid_dataset_dir.glob('*/*.jpg')))\n",
        "test_image_count= len(list(test_dataset_dir.glob('*/*.jpg')))\n",
        "print (train_image_count)\n",
        "#print(valid_image_count)\n",
        "print(test_image_count)"
      ],
      "execution_count": 0,
      "outputs": []
    },
    {
      "cell_type": "code",
      "metadata": {
        "id": "lzLoy6XE_Pag",
        "colab_type": "code",
        "outputId": "18a29ae9-5891-4ede-d2f5-95fb399b921a",
        "colab": {
          "base_uri": "https://localhost:8080/",
          "height": 35
        }
      },
      "source": [
        "CLASS_NAMES = np.array([item.name for item in train_dataset_dir.glob('*') ])\n",
        "print (CLASS_NAMES)\n",
        "#CLASS_NAMES = np.array([item.name for item in valid_dataset_dir.glob('*') ])\n",
        "#print (CLASS_NAMES)\n",
        "#CLASS_NAMES = np.array([item.name for item in test_dataset_dir.glob('*') ])\n",
        "#print (CLASS_NAMES)"
      ],
      "execution_count": 14,
      "outputs": [
        {
          "output_type": "stream",
          "text": [
            "['non-face' 'face']\n"
          ],
          "name": "stdout"
        }
      ]
    },
    {
      "cell_type": "code",
      "metadata": {
        "id": "LftTQZEVFigG",
        "colab_type": "code",
        "outputId": "21bf7d8f-20ec-4795-d11c-c9db5fc24feb",
        "colab": {
          "base_uri": "https://localhost:8080/",
          "height": 74
        }
      },
      "source": [
        "train_image = list(train_dataset_dir.glob('*/*.jpg'))\n",
        "\n",
        "for train_dataset_dir in train_image [:3]:\n",
        "    display.display(Image.open(str(train_dataset_dir)))"
      ],
      "execution_count": 15,
      "outputs": [
        {
          "output_type": "display_data",
          "data": {
            "image/png": "[encoded data removed]",
            "text/plain": [
              "<PIL.JpegImagePlugin.JpegImageFile image mode=RGB size=19x19 at 0x7F7967FE7198>"
            ]
          },
          "metadata": {
            "tags": []
          }
        },
        {
          "output_type": "display_data",
          "data": {
            "image/png": "[encoded data removed]",
            "text/plain": [
              "<PIL.JpegImagePlugin.JpegImageFile image mode=RGB size=19x19 at 0x7F7967FE7080>"
            ]
          },
          "metadata": {
            "tags": []
          }
        },
        {
          "output_type": "display_data",
          "data": {
            "image/png": "[encoded data removed]",
            "text/plain": [
              "<PIL.JpegImagePlugin.JpegImageFile image mode=RGB size=19x19 at 0x7F7967FE7160>"
            ]
          },
          "metadata": {
            "tags": []
          }
        }
      ]
    },
    {
      "cell_type": "code",
      "metadata": {
        "id": "b4-uYtAZtr3S",
        "colab_type": "code",
        "colab": {}
      },
      "source": [
        "# just to see few test images \n",
        "'''test_image = list(test_dataset_dir.glob('*/*.jpg'))\n",
        "\n",
        "for test_dataset_dir in test_image [:3]:\n",
        "    display.display(Image.open(str(test_dataset_dir)))"
      ],
      "execution_count": 0,
      "outputs": []
    },
    {
      "cell_type": "code",
      "metadata": {
        "id": "Gq3DPA9fGuHK",
        "colab_type": "code",
        "colab": {}
      },
      "source": [
        "#image_generator = tf.keras.preprocessing.image.ImageDataGenerator(rescale=1./255) # Uncomment in-case scaling is required\n",
        "image_generator = tf.keras.preprocessing.image.ImageDataGenerator()"
      ],
      "execution_count": 0,
      "outputs": []
    },
    {
      "cell_type": "code",
      "metadata": {
        "id": "mSy-forh-w6-",
        "colab_type": "code",
        "outputId": "fd8cdfc4-5eff-4bfc-cfde-03d535e67c70",
        "colab": {
          "base_uri": "https://localhost:8080/",
          "height": 35
        }
      },
      "source": [
        "train_data_gen=image_generator.flow_from_directory(directory='faces/face.train/train/',\n",
        "                                                   target_size=(19,19),color_mode='grayscale',\n",
        "                                                   classes=['face','non-face'],class_mode='categorical',\n",
        "                                                   batch_size= 32,shuffle=True)"
      ],
      "execution_count": 19,
      "outputs": [
        {
          "output_type": "stream",
          "text": [
            "Found 6977 images belonging to 2 classes.\n"
          ],
          "name": "stdout"
        }
      ]
    },
    {
      "cell_type": "code",
      "metadata": {
        "id": "p2kEYuFynVqv",
        "colab_type": "code",
        "outputId": "ca4aca9c-9411-43d9-b9f3-91e14f3500b5",
        "colab": {
          "base_uri": "https://localhost:8080/",
          "height": 35
        }
      },
      "source": [
        "valid_data_gen= image_generator.flow_from_directory(directory='faces/face.validation/validation/',\n",
        "                                                   target_size= (19,19),\n",
        "                                                   color_mode= 'grayscale',\n",
        "                                                   classes=['face','non-face'],\n",
        "                                                   class_mode='categorical',\n",
        "                                                   batch_size=32,\n",
        "                                                   shuffle= True)"
      ],
      "execution_count": 21,
      "outputs": [
        {
          "output_type": "stream",
          "text": [
            "Found 2000 images belonging to 2 classes.\n"
          ],
          "name": "stdout"
        }
      ]
    },
    {
      "cell_type": "code",
      "metadata": {
        "id": "XnVD6tCCu1aW",
        "colab_type": "code",
        "outputId": "f3ed4555-ffe6-4074-b3af-6e5f0433114e",
        "colab": {
          "base_uri": "https://localhost:8080/",
          "height": 35
        }
      },
      "source": [
        "                                                   color_mode= 'grayscale',\n",
        "                                                   classes=['face','non-face'],\n",
        "                                                   class_mode='categorical',\n",
        "                                                   batch_size=32,\n",
        "                                                   shuffle= True)"
      ],
      "execution_count": 24,
      "outputs": [
        {
          "output_type": "stream",
          "text": [
            "Found 24056 images belonging to 2 classes.\n"
          ],
          "name": "stdout"
        }
      ]
    },
    {
      "cell_type": "code",
      "metadata": {
        "id": "CLbSXfFKuC9_",
        "colab_type": "code",
        "colab": {}
      },
      "source": [
        " train_imgs,train_labels = train_data_gen.next()\n",
        " valid_imgs,valid_labels = valid_data_gen.next()"
      ],
      "execution_count": 0,
      "outputs": []
    },
    {
      "cell_type": "code",
      "metadata": {
        "id": "BXT9s7pVIF-t",
        "colab_type": "code",
        "outputId": "957c8fe7-04e1-4aff-ee7c-c3ceaea5a971",
        "colab": {
          "base_uri": "https://localhost:8080/",
          "height": 417
        }
      },
      "source": [
        "#from keras import layers\n",
        "#from keras import models\n",
        "from tensorflow.python.keras import models\n",
        "from tensorflow.python.keras import layers\n",
        "from tensorflow.python.keras.layers import Dense\n",
        "from tensorflow.python.keras import Sequential\n",
        "\n",
        "model = models.Sequential()\n",
        "model.add(layers.Conv2D(8, (3, 3), activation='relu',input_shape=(19, 19, 1)))\n",
        "model.add(layers.Conv2D(16, (3, 3), activation='relu'))\n",
        "model.add(layers.MaxPooling2D((2, 2)))\n",
        "model.add(layers.Conv2D(32, (3, 3), activation='relu'))\n",
        "model.add(layers.Flatten())\n",
        "model.add(layers.Dense(64, activation='relu'))\n",
        "model.add(layers.Dense(2, activation='sigmoid'))\n",
        "model.summary()"
      ],
      "execution_count": 25,
      "outputs": [
        {
          "output_type": "stream",
          "text": [
            "Model: \"sequential\"\n",
            "_________________________________________________________________\n",
            "Layer (type)                 Output Shape              Param #   \n",
            "=================================================================\n",
            "conv2d (Conv2D)              (None, 17, 17, 8)         80        \n",
            "_________________________________________________________________\n",
            "conv2d_1 (Conv2D)            (None, 15, 15, 16)        1168      \n",
            "_________________________________________________________________\n",
            "max_pooling2d (MaxPooling2D) (None, 7, 7, 16)          0         \n",
            "_________________________________________________________________\n",
            "conv2d_2 (Conv2D)            (None, 5, 5, 32)          4640      \n",
            "_________________________________________________________________\n",
            "flatten (Flatten)            (None, 800)               0         \n",
            "_________________________________________________________________\n",
            "dense (Dense)                (None, 64)                51264     \n",
            "_________________________________________________________________\n",
            "dense_1 (Dense)              (None, 2)                 130       \n",
            "=================================================================\n",
            "Total params: 57,282\n",
            "Trainable params: 57,282\n",
            "Non-trainable params: 0\n",
            "_________________________________________________________________\n"
          ],
          "name": "stdout"
        }
      ]
    },
    {
      "cell_type": "code",
      "metadata": {
        "id": "6KVDqsmqByaL",
        "colab_type": "code",
        "colab": {}
      },
      "source": [
        "model.compile(optimizer='adam',loss='binary_crossentropy', metrics=['accuracy'])"
      ],
      "execution_count": 0,
      "outputs": []
    },
    {
      "cell_type": "code",
      "metadata": {
        "id": "V_0o7t3-HPi2",
        "colab_type": "code",
        "colab": {
          "base_uri": "https://localhost:8080/",
          "height": 35
        },
        "outputId": "3bf4b9f4-b274-4c46-9e37-70ac0b9a3586"
      },
      "source": [
        "BATCH_SIZE= 32\n",
        "STEPS_PER_EPOCH = np.ceil(train_image_count/BATCH_SIZE)\n",
        "print (STEPS_PER_EPOCH)"
      ],
      "execution_count": 27,
      "outputs": [
        {
          "output_type": "stream",
          "text": [
            "219.0\n"
          ],
          "name": "stdout"
        }
      ]
    },
    {
      "cell_type": "code",
      "metadata": {
        "id": "kjdMUpGevymA",
        "colab_type": "code",
        "colab": {}
      },
      "source": [
        "#from keras.callbacks import EarlyStopping, ModelCheckpoint, ReduceLROnPlateau\n",
        "from tensorflow.keras.callbacks import EarlyStopping, ModelCheckpoint, ReduceLROnPlateau\n",
        "callbacks = [\n",
        "    EarlyStopping(patience=10, verbose=1),\n",
        "    ReduceLROnPlateau(factor=0.1, patience=5, min_lr=0.00001, verbose=1),\n",
        "    ModelCheckpoint('FeedForwardFacesDataSet.h5', verbose=1, save_best_only=True, save_weights_only=True)\n",
        "]"
      ],
      "execution_count": 0,
      "outputs": []
    },
    {
      "cell_type": "code",
      "metadata": {
        "id": "PCA6-6Auetnn",
        "colab_type": "code",
        "outputId": "2d502d9d-fe6a-442d-8b0c-275ba37bb8fb",
        "colab": {
          "base_uri": "https://localhost:8080/",
          "height": 1000
        }
      },
      "source": [
        "history = model.fit_generator(\n",
        "    train_data_gen,\n",
        "    steps_per_epoch= 10,\n",
        "    epochs=40,\n",
        "    callbacks=callbacks,\n",
        "    validation_data= valid_data_gen,\n",
        "    validation_steps= STEPS_PER_EPOCH,\n",
        "    shuffle= True\n",
        ")\n"
      ],
      "execution_count": 30,
      "outputs": [
        {
          "output_type": "stream",
          "text": [
            "Epoch 1/40\n",
            "10/10 [==============================] - ETA: 0s - loss: 0.3014 - accuracy: 0.9094 \n",
            "Epoch 00001: val_loss improved from 0.52621 to 0.44074, saving model to FeedForwardFacesDataSet.h5\n",
            "10/10 [==============================] - 177s 18s/step - loss: 0.3014 - accuracy: 0.9094 - val_loss: 0.4407 - val_accuracy: 0.8361 - lr: 0.0010\n",
            "Epoch 2/40\n",
            "10/10 [==============================] - ETA: 0s - loss: 0.1690 - accuracy: 0.9719 \n",
            "Epoch 00002: val_loss improved from 0.44074 to 0.33915, saving model to FeedForwardFacesDataSet.h5\n",
            "10/10 [==============================] - 207s 21s/step - loss: 0.1690 - accuracy: 0.9719 - val_loss: 0.3391 - val_accuracy: 0.8889 - lr: 0.0010\n",
            "Epoch 3/40\n",
            "10/10 [==============================] - ETA: 0s - loss: 0.2103 - accuracy: 0.9375 \n",
            "Epoch 00003: val_loss improved from 0.33915 to 0.29038, saving model to FeedForwardFacesDataSet.h5\n",
            "10/10 [==============================] - 205s 20s/step - loss: 0.2103 - accuracy: 0.9375 - val_loss: 0.2904 - val_accuracy: 0.9008 - lr: 0.0010\n",
            "Epoch 4/40\n",
            "10/10 [==============================] - ETA: 0s - loss: 0.1313 - accuracy: 0.9625 \n",
            "Epoch 00004: val_loss did not improve from 0.29038\n",
            "10/10 [==============================] - 182s 18s/step - loss: 0.1313 - accuracy: 0.9625 - val_loss: 0.3049 - val_accuracy: 0.8639 - lr: 0.0010\n",
            "Epoch 5/40\n",
            "10/10 [==============================] - ETA: 0s - loss: 0.1248 - accuracy: 0.9625 \n",
            "Epoch 00005: val_loss improved from 0.29038 to 0.25303, saving model to FeedForwardFacesDataSet.h5\n",
            "10/10 [==============================] - 209s 21s/step - loss: 0.1248 - accuracy: 0.9625 - val_loss: 0.2530 - val_accuracy: 0.9009 - lr: 0.0010\n",
            "Epoch 6/40\n",
            "10/10 [==============================] - ETA: 0s - loss: 0.1686 - accuracy: 0.9500 \n",
            "Epoch 00006: val_loss improved from 0.25303 to 0.23529, saving model to FeedForwardFacesDataSet.h5\n",
            "10/10 [==============================] - 209s 21s/step - loss: 0.1686 - accuracy: 0.9500 - val_loss: 0.2353 - val_accuracy: 0.9259 - lr: 0.0010\n",
            "Epoch 7/40\n",
            "10/10 [==============================] - ETA: 0s - loss: 0.1132 - accuracy: 0.9656 \n",
            "Epoch 00007: val_loss improved from 0.23529 to 0.22801, saving model to FeedForwardFacesDataSet.h5\n",
            "10/10 [==============================] - 197s 20s/step - loss: 0.1132 - accuracy: 0.9656 - val_loss: 0.2280 - val_accuracy: 0.9234 - lr: 0.0010\n",
            "Epoch 8/40\n",
            "10/10 [==============================] - ETA: 0s - loss: 0.0947 - accuracy: 0.9750 \n",
            "Epoch 00008: val_loss improved from 0.22801 to 0.18949, saving model to FeedForwardFacesDataSet.h5\n",
            "10/10 [==============================] - 211s 21s/step - loss: 0.0947 - accuracy: 0.9750 - val_loss: 0.1895 - val_accuracy: 0.9312 - lr: 0.0010\n",
            "Epoch 9/40\n",
            "10/10 [==============================] - ETA: 0s - loss: 0.1901 - accuracy: 0.9469 \n",
            "Epoch 00009: val_loss did not improve from 0.18949\n",
            "10/10 [==============================] - 226s 23s/step - loss: 0.1901 - accuracy: 0.9469 - val_loss: 0.2768 - val_accuracy: 0.8913 - lr: 0.0010\n",
            "Epoch 10/40\n",
            "10/10 [==============================] - ETA: 0s - loss: 0.1215 - accuracy: 0.9563 \n",
            "Epoch 00010: val_loss improved from 0.18949 to 0.14337, saving model to FeedForwardFacesDataSet.h5\n",
            "10/10 [==============================] - 190s 19s/step - loss: 0.1215 - accuracy: 0.9563 - val_loss: 0.1434 - val_accuracy: 0.9517 - lr: 0.0010\n",
            "Epoch 11/40\n",
            "10/10 [==============================] - ETA: 0s - loss: 0.0902 - accuracy: 0.9781 \n",
            "Epoch 00011: val_loss improved from 0.14337 to 0.13238, saving model to FeedForwardFacesDataSet.h5\n",
            "10/10 [==============================] - 205s 21s/step - loss: 0.0902 - accuracy: 0.9781 - val_loss: 0.1324 - val_accuracy: 0.9653 - lr: 0.0010\n",
            "Epoch 12/40\n",
            "10/10 [==============================] - ETA: 0s - loss: 0.0764 - accuracy: 0.9750 \n",
            "Epoch 00012: val_loss improved from 0.13238 to 0.11617, saving model to FeedForwardFacesDataSet.h5\n",
            "10/10 [==============================] - 193s 19s/step - loss: 0.0764 - accuracy: 0.9750 - val_loss: 0.1162 - val_accuracy: 0.9670 - lr: 0.0010\n",
            "Epoch 13/40\n",
            "10/10 [==============================] - ETA: 0s - loss: 0.0847 - accuracy: 0.9750 \n",
            "Epoch 00013: val_loss improved from 0.11617 to 0.11197, saving model to FeedForwardFacesDataSet.h5\n",
            "10/10 [==============================] - 205s 21s/step - loss: 0.0847 - accuracy: 0.9750 - val_loss: 0.1120 - val_accuracy: 0.9647 - lr: 0.0010\n",
            "Epoch 14/40\n",
            "10/10 [==============================] - ETA: 0s - loss: 0.0836 - accuracy: 0.9812 \n",
            "Epoch 00014: val_loss did not improve from 0.11197\n",
            "10/10 [==============================] - 200s 20s/step - loss: 0.0836 - accuracy: 0.9812 - val_loss: 0.1210 - val_accuracy: 0.9569 - lr: 0.0010\n",
            "Epoch 15/40\n",
            "10/10 [==============================] - ETA: 0s - loss: 0.0469 - accuracy: 0.9875 \n",
            "Epoch 00015: val_loss improved from 0.11197 to 0.09433, saving model to FeedForwardFacesDataSet.h5\n",
            "10/10 [==============================] - 184s 18s/step - loss: 0.0469 - accuracy: 0.9875 - val_loss: 0.0943 - val_accuracy: 0.9724 - lr: 0.0010\n",
            "Epoch 16/40\n",
            "10/10 [==============================] - ETA: 0s - loss: 0.0592 - accuracy: 0.9781 \n",
            "Epoch 00016: val_loss improved from 0.09433 to 0.09272, saving model to FeedForwardFacesDataSet.h5\n",
            "10/10 [==============================] - 198s 20s/step - loss: 0.0592 - accuracy: 0.9781 - val_loss: 0.0927 - val_accuracy: 0.9741 - lr: 0.0010\n",
            "Epoch 17/40\n",
            "10/10 [==============================] - ETA: 0s - loss: 0.0397 - accuracy: 0.9937 \n",
            "Epoch 00017: val_loss improved from 0.09272 to 0.08639, saving model to FeedForwardFacesDataSet.h5\n",
            "10/10 [==============================] - 212s 21s/step - loss: 0.0397 - accuracy: 0.9937 - val_loss: 0.0864 - val_accuracy: 0.9713 - lr: 0.0010\n",
            "Epoch 18/40\n",
            "10/10 [==============================] - ETA: 0s - loss: 0.0483 - accuracy: 0.9875 \n",
            "Epoch 00018: val_loss did not improve from 0.08639\n",
            "10/10 [==============================] - 200s 20s/step - loss: 0.0483 - accuracy: 0.9875 - val_loss: 0.0967 - val_accuracy: 0.9721 - lr: 0.0010\n",
            "Epoch 19/40\n",
            "10/10 [==============================] - ETA: 0s - loss: 0.0433 - accuracy: 0.9906 \n",
            "Epoch 00019: val_loss did not improve from 0.08639\n",
            "10/10 [==============================] - 187s 19s/step - loss: 0.0433 - accuracy: 0.9906 - val_loss: 0.1247 - val_accuracy: 0.9676 - lr: 0.0010\n",
            "Epoch 20/40\n",
            "10/10 [==============================] - ETA: 0s - loss: 0.0446 - accuracy: 0.9896\n",
            "Epoch 00020: val_loss did not improve from 0.08639\n",
            "10/10 [==============================] - 12s 1s/step - loss: 0.0446 - accuracy: 0.9896 - val_loss: 0.1078 - val_accuracy: 0.9615 - lr: 0.0010\n",
            "Epoch 21/40\n",
            "10/10 [==============================] - ETA: 0s - loss: 0.0478 - accuracy: 0.9844\n",
            "Epoch 00021: val_loss improved from 0.08639 to 0.07006, saving model to FeedForwardFacesDataSet.h5\n",
            "10/10 [==============================] - 12s 1s/step - loss: 0.0478 - accuracy: 0.9844 - val_loss: 0.0701 - val_accuracy: 0.9785 - lr: 0.0010\n",
            "Epoch 22/40\n",
            "10/10 [==============================] - ETA: 0s - loss: 0.0271 - accuracy: 0.9937\n",
            "Epoch 00022: val_loss did not improve from 0.07006\n",
            "10/10 [==============================] - 12s 1s/step - loss: 0.0271 - accuracy: 0.9937 - val_loss: 0.0863 - val_accuracy: 0.9714 - lr: 0.0010\n",
            "Epoch 23/40\n",
            "10/10 [==============================] - ETA: 0s - loss: 0.0604 - accuracy: 0.9812\n",
            "Epoch 00023: val_loss did not improve from 0.07006\n",
            "10/10 [==============================] - 12s 1s/step - loss: 0.0604 - accuracy: 0.9812 - val_loss: 0.0921 - val_accuracy: 0.9654 - lr: 0.0010\n",
            "Epoch 24/40\n",
            "10/10 [==============================] - ETA: 0s - loss: 0.0274 - accuracy: 0.9969\n",
            "Epoch 00024: val_loss did not improve from 0.07006\n",
            "10/10 [==============================] - 12s 1s/step - loss: 0.0274 - accuracy: 0.9969 - val_loss: 0.0831 - val_accuracy: 0.9691 - lr: 0.0010\n",
            "Epoch 25/40\n",
            "10/10 [==============================] - ETA: 0s - loss: 0.1085 - accuracy: 0.9625\n",
            "Epoch 00025: val_loss did not improve from 0.07006\n",
            "10/10 [==============================] - 12s 1s/step - loss: 0.1085 - accuracy: 0.9625 - val_loss: 0.1031 - val_accuracy: 0.9598 - lr: 0.0010\n",
            "Epoch 26/40\n",
            "10/10 [==============================] - ETA: 0s - loss: 0.0848 - accuracy: 0.9812\n",
            "Epoch 00026: ReduceLROnPlateau reducing learning rate to 0.00010000000474974513.\n",
            "\n",
            "Epoch 00026: val_loss did not improve from 0.07006\n",
            "10/10 [==============================] - 13s 1s/step - loss: 0.0848 - accuracy: 0.9812 - val_loss: 0.0731 - val_accuracy: 0.9743 - lr: 0.0010\n",
            "Epoch 27/40\n",
            "10/10 [==============================] - ETA: 0s - loss: 0.0395 - accuracy: 0.9875\n",
            "Epoch 00027: val_loss improved from 0.07006 to 0.06592, saving model to FeedForwardFacesDataSet.h5\n",
            "10/10 [==============================] - 12s 1s/step - loss: 0.0395 - accuracy: 0.9875 - val_loss: 0.0659 - val_accuracy: 0.9784 - lr: 1.0000e-04\n",
            "Epoch 28/40\n",
            "10/10 [==============================] - ETA: 0s - loss: 0.0468 - accuracy: 0.9844\n",
            "Epoch 00028: val_loss improved from 0.06592 to 0.06291, saving model to FeedForwardFacesDataSet.h5\n",
            "10/10 [==============================] - 13s 1s/step - loss: 0.0468 - accuracy: 0.9844 - val_loss: 0.0629 - val_accuracy: 0.9784 - lr: 1.0000e-04\n",
            "Epoch 29/40\n",
            "10/10 [==============================] - ETA: 0s - loss: 0.0313 - accuracy: 0.9875\n",
            "Epoch 00029: val_loss improved from 0.06291 to 0.05850, saving model to FeedForwardFacesDataSet.h5\n",
            "10/10 [==============================] - 12s 1s/step - loss: 0.0313 - accuracy: 0.9875 - val_loss: 0.0585 - val_accuracy: 0.9844 - lr: 1.0000e-04\n",
            "Epoch 30/40\n",
            "10/10 [==============================] - ETA: 0s - loss: 0.0360 - accuracy: 0.9906\n",
            "Epoch 00030: val_loss did not improve from 0.05850\n",
            "10/10 [==============================] - 12s 1s/step - loss: 0.0360 - accuracy: 0.9906 - val_loss: 0.0610 - val_accuracy: 0.9780 - lr: 1.0000e-04\n",
            "Epoch 31/40\n",
            "10/10 [==============================] - ETA: 0s - loss: 0.0303 - accuracy: 0.9937\n",
            "Epoch 00031: val_loss did not improve from 0.05850\n",
            "10/10 [==============================] - 12s 1s/step - loss: 0.0303 - accuracy: 0.9937 - val_loss: 0.0594 - val_accuracy: 0.9806 - lr: 1.0000e-04\n",
            "Epoch 32/40\n",
            "10/10 [==============================] - ETA: 0s - loss: 0.0294 - accuracy: 0.9937\n",
            "Epoch 00032: val_loss improved from 0.05850 to 0.05835, saving model to FeedForwardFacesDataSet.h5\n",
            "10/10 [==============================] - 12s 1s/step - loss: 0.0294 - accuracy: 0.9937 - val_loss: 0.0583 - val_accuracy: 0.9792 - lr: 1.0000e-04\n",
            "Epoch 33/40\n",
            "10/10 [==============================] - ETA: 0s - loss: 0.0338 - accuracy: 0.9906\n",
            "Epoch 00033: val_loss improved from 0.05835 to 0.05368, saving model to FeedForwardFacesDataSet.h5\n",
            "10/10 [==============================] - 12s 1s/step - loss: 0.0338 - accuracy: 0.9906 - val_loss: 0.0537 - val_accuracy: 0.9811 - lr: 1.0000e-04\n",
            "Epoch 34/40\n",
            "10/10 [==============================] - ETA: 0s - loss: 0.0252 - accuracy: 0.9969\n",
            "Epoch 00034: val_loss did not improve from 0.05368\n",
            "10/10 [==============================] - 12s 1s/step - loss: 0.0252 - accuracy: 0.9969 - val_loss: 0.0549 - val_accuracy: 0.9859 - lr: 1.0000e-04\n",
            "Epoch 35/40\n",
            "10/10 [==============================] - ETA: 0s - loss: 0.0342 - accuracy: 0.9844\n",
            "Epoch 00035: val_loss improved from 0.05368 to 0.05171, saving model to FeedForwardFacesDataSet.h5\n",
            "10/10 [==============================] - 14s 1s/step - loss: 0.0342 - accuracy: 0.9844 - val_loss: 0.0517 - val_accuracy: 0.9880 - lr: 1.0000e-04\n",
            "Epoch 36/40\n",
            "10/10 [==============================] - ETA: 0s - loss: 0.0366 - accuracy: 0.9937\n",
            "Epoch 00036: val_loss improved from 0.05171 to 0.05090, saving model to FeedForwardFacesDataSet.h5\n",
            "10/10 [==============================] - 12s 1s/step - loss: 0.0366 - accuracy: 0.9937 - val_loss: 0.0509 - val_accuracy: 0.9853 - lr: 1.0000e-04\n",
            "Epoch 37/40\n",
            "10/10 [==============================] - ETA: 0s - loss: 0.0331 - accuracy: 0.9906\n",
            "Epoch 00037: val_loss improved from 0.05090 to 0.05040, saving model to FeedForwardFacesDataSet.h5\n",
            "10/10 [==============================] - 12s 1s/step - loss: 0.0331 - accuracy: 0.9906 - val_loss: 0.0504 - val_accuracy: 0.9855 - lr: 1.0000e-04\n",
            "Epoch 38/40\n",
            "10/10 [==============================] - ETA: 0s - loss: 0.0255 - accuracy: 0.9969\n",
            "Epoch 00038: val_loss improved from 0.05040 to 0.05014, saving model to FeedForwardFacesDataSet.h5\n",
            "10/10 [==============================] - 12s 1s/step - loss: 0.0255 - accuracy: 0.9969 - val_loss: 0.0501 - val_accuracy: 0.9859 - lr: 1.0000e-04\n",
            "Epoch 39/40\n",
            "10/10 [==============================] - ETA: 0s - loss: 0.0147 - accuracy: 0.9969\n",
            "Epoch 00039: val_loss did not improve from 0.05014\n",
            "10/10 [==============================] - 12s 1s/step - loss: 0.0147 - accuracy: 0.9969 - val_loss: 0.0530 - val_accuracy: 0.9859 - lr: 1.0000e-04\n",
            "Epoch 40/40\n",
            "10/10 [==============================] - ETA: 0s - loss: 0.0354 - accuracy: 0.9906\n",
            "Epoch 00040: val_loss did not improve from 0.05014\n",
            "10/10 [==============================] - 12s 1s/step - loss: 0.0354 - accuracy: 0.9906 - val_loss: 0.0512 - val_accuracy: 0.9858 - lr: 1.0000e-04\n"
          ],
          "name": "stdout"
        }
      ]
    },
    {
      "cell_type": "code",
      "metadata": {
        "id": "ThMIxUoTFO47",
        "colab_type": "code",
        "outputId": "bed20a1c-f80a-48db-b88c-523a06268172",
        "colab": {
          "base_uri": "https://localhost:8080/",
          "height": 35
        }
      },
      "source": [
        "print(history.history.keys())"
      ],
      "execution_count": 31,
      "outputs": [
        {
          "output_type": "stream",
          "text": [
            "dict_keys(['loss', 'accuracy', 'val_loss', 'val_accuracy', 'lr'])\n"
          ],
          "name": "stdout"
        }
      ]
    },
    {
      "cell_type": "code",
      "metadata": {
        "id": "4cWmXaUM3GKC",
        "colab_type": "code",
        "outputId": "ce429a34-7eac-427b-be14-ceae5c642c5c",
        "colab": {
          "base_uri": "https://localhost:8080/",
          "height": 295
        }
      },
      "source": [
        "# summarize history for accuracy\n",
        "plt.plot(history.history['accuracy'], label='train_accuracy')\n",
        "plt.plot(history.history['val_accuracy'], label = 'val_accuracy')\n",
        "plt.plot( np.argmax(history.history[\"val_accuracy\"]), np.max(history.history[\"val_accuracy\"]), marker=\"x\", color=\"r\", label=\"best model accuracy\")\n",
        "plt.title('model accuracy')\n",
        "plt.ylabel('accuracy')\n",
        "plt.xlabel('epoch')\n",
        "plt.legend(['train', 'test'], loc='upper left')\n",
        "plt.legend();\n",
        "#plt.show()"
      ],
      "execution_count": 43,
      "outputs": [
        {
          "output_type": "display_data",
          "data": {
            "image/png": "[encoded data removed]",
            "text/plain": [
              "<Figure size 432x288 with 1 Axes>"
            ]
          },
          "metadata": {
            "tags": []
          }
        }
      ]
    },
    {
      "cell_type": "code",
      "metadata": {
        "id": "P9Lokfp-3LEP",
        "colab_type": "code",
        "outputId": "098c1de7-12ae-4beb-c401-9a6cbc1be0ca",
        "colab": {
          "base_uri": "https://localhost:8080/",
          "height": 295
        }
      },
      "source": [
        "# summarize history for loss\n",
        "plt.plot(history.history['loss'],label= \"train_loss\")\n",
        "plt.plot(history.history['val_loss'], label= \"val_loss\")\n",
        "plt.plot( np.argmin(history.history[\"val_loss\"]), np.min(history.history[\"val_loss\"]), marker=\"x\", color=\"r\", label=\"best model\")\n",
        "plt.title('model loss')\n",
        "plt.ylabel('loss')\n",
        "plt.xlabel('epoch')\n",
        "plt.legend();\n",
        "#plt.show()"
      ],
      "execution_count": 41,
      "outputs": [
        {
          "output_type": "display_data",
          "data": {
            "image/png": "[encoded data removed]",
            "text/plain": [
              "<Figure size 432x288 with 1 Axes>"
            ]
          },
          "metadata": {
            "tags": []
          }
        }
      ]
    },
    {
      "cell_type": "code",
      "metadata": {
        "id": "NMmRAiJX4-Lk",
        "colab_type": "code",
        "colab": {}
      },
      "source": [
        "test_img, test_label= test_data_gen.next()"
      ],
      "execution_count": 0,
      "outputs": []
    },
    {
      "cell_type": "code",
      "metadata": {
        "id": "rv3Ckamr427N",
        "colab_type": "code",
        "outputId": "78e82d76-1c15-4d74-b470-2b729ea4ff7e",
        "colab": {
          "base_uri": "https://localhost:8080/",
          "height": 90
        }
      },
      "source": [
        "print('\\n# Evaluate on test data')\n",
        "results_test = model.evaluate(test_img, test_label, batch_size=32)\n",
        "print('test loss, test acc:', results_test)\n"
      ],
      "execution_count": 45,
      "outputs": [
        {
          "output_type": "stream",
          "text": [
            "\n",
            "# Evaluate on test data\n",
            "1/1 [==============================] - 0s 2ms/step - loss: 0.0246 - accuracy: 1.0000\n",
            "test loss, test acc: [0.024595797061920166, 1.0]\n"
          ],
          "name": "stdout"
        }
      ]
    },
    {
      "cell_type": "code",
      "metadata": {
        "id": "IzKFH0j75cnd",
        "colab_type": "code",
        "outputId": "ecabd39c-79d8-4076-d0bb-39e0d98a14a2",
        "colab": {
          "base_uri": "https://localhost:8080/",
          "height": 108
        }
      },
      "source": [
        "print('Generate predictions for 3 samples')\n",
        "predictions = model.predict(test_img[:3])\n",
        "print('Predictions are: \\n', predictions)\n"
      ],
      "execution_count": 51,
      "outputs": [
        {
          "output_type": "stream",
          "text": [
            "Generate predictions for 3 samples\n",
            "Predictions are: \n",
            " [[1.1441933e-02 9.8728138e-01]\n",
            " [1.2063648e-02 9.5380521e-01]\n",
            " [1.2237486e-07 9.9999976e-01]]\n"
          ],
          "name": "stdout"
        }
      ]
    }
  ]
}